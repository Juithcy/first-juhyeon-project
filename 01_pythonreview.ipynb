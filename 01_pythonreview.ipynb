{
 "cells": [
  {
   "cell_type": "code",
   "execution_count": 2,
   "id": "5bb87420-6d5b-4358-8f21-759c851db0e3",
   "metadata": {},
   "outputs": [
    {
     "name": "stdout",
     "output_type": "stream",
     "text": [
      "3.9.13 (main, Aug 25 2022, 23:51:50) [MSC v.1916 64 bit (AMD64)]\n"
     ]
    }
   ],
   "source": [
    "import sys\n",
    "print(sys.version)"
   ]
  },
  {
   "cell_type": "code",
   "execution_count": 3,
   "id": "7d2fcb4c-3775-44a8-a016-4b6e8bd82ccd",
   "metadata": {},
   "outputs": [
    {
     "name": "stdout",
     "output_type": "stream",
     "text": [
      " C 드라이브의 볼륨: OS\n",
      " 볼륨 일련 번호: 3810-D41B\n",
      "\n",
      " C:\\python 디렉터리\n",
      "\n",
      "2023-02-14  오후 07:24    <DIR>          .\n",
      "2023-02-14  오후 07:24    <DIR>          .ipynb_checkpoints\n",
      "2023-02-14  오후 07:23                72 01_pythonreview.ipynb\n",
      "               1개 파일                  72 바이트\n",
      "               2개 디렉터리  294,410,186,752 바이트 남음\n"
     ]
    }
   ],
   "source": [
    "!dir"
   ]
  },
  {
   "cell_type": "code",
   "execution_count": 9,
   "id": "497a877e-16c2-44ff-a13a-58be3fbcdbbf",
   "metadata": {},
   "outputs": [
    {
     "ename": "TypeError",
     "evalue": "'tuple' object does not support item assignment",
     "output_type": "error",
     "traceback": [
      "\u001b[1;31m---------------------------------------------------------------------------\u001b[0m",
      "\u001b[1;31mTypeError\u001b[0m                                 Traceback (most recent call last)",
      "\u001b[1;32mC:\\Users\\Public\\Documents\\ESTsoft\\CreatorTemp\\ipykernel_28204\\523200073.py\u001b[0m in \u001b[0;36m<module>\u001b[1;34m\u001b[0m\n\u001b[0;32m      1\u001b[0m \u001b[0mtuple_variable\u001b[0m \u001b[1;33m=\u001b[0m \u001b[1;33m(\u001b[0m\u001b[1;36m1\u001b[0m\u001b[1;33m,\u001b[0m \u001b[1;36m2\u001b[0m\u001b[1;33m,\u001b[0m \u001b[1;36m3\u001b[0m\u001b[1;33m,\u001b[0m \u001b[1;36m4\u001b[0m\u001b[1;33m,\u001b[0m \u001b[1;36m5\u001b[0m\u001b[1;33m,\u001b[0m \u001b[1;34m\"hello\"\u001b[0m\u001b[1;33m)\u001b[0m\u001b[1;33m\u001b[0m\u001b[1;33m\u001b[0m\u001b[0m\n\u001b[1;32m----> 2\u001b[1;33m \u001b[0mtuple_variable\u001b[0m\u001b[1;33m[\u001b[0m\u001b[1;36m0\u001b[0m\u001b[1;33m]\u001b[0m \u001b[1;33m=\u001b[0m \u001b[1;36m0\u001b[0m\u001b[1;33m\u001b[0m\u001b[1;33m\u001b[0m\u001b[0m\n\u001b[0m\u001b[0;32m      3\u001b[0m \u001b[0mtuple_variable\u001b[0m\u001b[1;33m[\u001b[0m\u001b[1;36m1\u001b[0m\u001b[1;33m:\u001b[0m\u001b[1;36m3\u001b[0m\u001b[1;33m]\u001b[0m \u001b[1;33m=\u001b[0m \u001b[1;33m(\u001b[0m\u001b[1;34m\"음\"\u001b[0m\u001b[1;33m,\u001b[0m \u001b[1;34m\"오\"\u001b[0m\u001b[1;33m)\u001b[0m\u001b[1;33m\u001b[0m\u001b[1;33m\u001b[0m\u001b[0m\n\u001b[0;32m      4\u001b[0m \u001b[1;32mdel\u001b[0m \u001b[0mtuple_variable\u001b[0m\u001b[1;33m[\u001b[0m\u001b[1;36m1\u001b[0m\u001b[1;33m]\u001b[0m\u001b[1;33m\u001b[0m\u001b[1;33m\u001b[0m\u001b[0m\n",
      "\u001b[1;31mTypeError\u001b[0m: 'tuple' object does not support item assignment"
     ]
    }
   ],
   "source": [
    "# 튜플은 불변\n",
    "tuple_variable = (1, 2, 3, 4, 5, \"hello\")\n",
    "tuple_variable[0] = 0\n",
    "tuple_variable[1:3] = (\"음\", \"오\")\n",
    "del tuple_variable[1]"
   ]
  },
  {
   "cell_type": "code",
   "execution_count": 10,
   "id": "27c1b901-401e-4450-9ddb-c5cd7bdac7ad",
   "metadata": {},
   "outputs": [
    {
     "name": "stdout",
     "output_type": "stream",
     "text": [
      "[0, '오', 4, 5, 'hello']\n"
     ]
    }
   ],
   "source": [
    "# 리스트는 가변\n",
    "tuple_variable = [1, 2, 3, 4, 5, \"hello\"]\n",
    "tuple_variable[0] = 0\n",
    "tuple_variable[1:3] = (\"음\", \"오\")\n",
    "del tuple_variable[1]\n",
    "print(tuple_variable)"
   ]
  },
  {
   "cell_type": "code",
   "execution_count": 13,
   "id": "61aff9fd-f649-47dc-9e92-4163f1f4279f",
   "metadata": {},
   "outputs": [
    {
     "name": "stdin",
     "output_type": "stream",
     "text": [
      "message 1111\n"
     ]
    }
   ],
   "source": [
    "# 파이썬 입력 사용해보기\n",
    "\n",
    "input_value = input(\"message\")"
   ]
  },
  {
   "cell_type": "code",
   "execution_count": 14,
   "id": "88639c81-ceef-441a-a8c5-b44ff72b506d",
   "metadata": {},
   "outputs": [
    {
     "name": "stdout",
     "output_type": "stream",
     "text": [
      "input_value 1111 \n",
      "type: <class 'str'>\n"
     ]
    }
   ],
   "source": [
    "print(\"input_value\", input_value, \"\\ntype:\", type(input_value))"
   ]
  },
  {
   "cell_type": "code",
   "execution_count": 15,
   "id": "5562aa5d-bb98-42a5-ae35-a0af725a2aaa",
   "metadata": {},
   "outputs": [
    {
     "name": "stdout",
     "output_type": "stream",
     "text": [
      "input_value 1111 \n",
      "type: <class 'int'>\n"
     ]
    }
   ],
   "source": [
    "input_value = int(input_value)\n",
    "print(\"input_value\", input_value, \"\\ntype:\", type(input_value))"
   ]
  },
  {
   "cell_type": "code",
   "execution_count": 16,
   "id": "7430d34e-c4aa-4a09-b227-777a116bef86",
   "metadata": {},
   "outputs": [
    {
     "name": "stdin",
     "output_type": "stream",
     "text": [
      "정수가 아닌 수를 입력: 1.1\n"
     ]
    }
   ],
   "source": [
    "input_value2 = input(\"정수가 아닌 수를 입력:\")"
   ]
  },
  {
   "cell_type": "code",
   "execution_count": 17,
   "id": "e13450f8-9a69-4e85-a719-fdd6f790dec4",
   "metadata": {},
   "outputs": [
    {
     "name": "stdout",
     "output_type": "stream",
     "text": [
      "1.1\n"
     ]
    }
   ],
   "source": [
    "print(input_value2)"
   ]
  },
  {
   "cell_type": "code",
   "execution_count": 20,
   "id": "42de0b80-0bc9-4529-8a6d-1988dc20da0b",
   "metadata": {},
   "outputs": [
    {
     "name": "stdout",
     "output_type": "stream",
     "text": [
      "1.1\n"
     ]
    }
   ],
   "source": [
    "input_value2 = float(input_value2)\n",
    "print(input_value2)"
   ]
  },
  {
   "cell_type": "code",
   "execution_count": 21,
   "id": "532c4ff4-59ff-4a79-b47b-79b35354a289",
   "metadata": {},
   "outputs": [
    {
     "name": "stdout",
     "output_type": "stream",
     "text": [
      "1\n"
     ]
    }
   ],
   "source": [
    "input_value2 = int(input_value2)\n",
    "print(input_value2)"
   ]
  },
  {
   "cell_type": "code",
   "execution_count": 29,
   "id": "e952d84e-8c38-446a-9369-85f136fdcf88",
   "metadata": {},
   "outputs": [
    {
     "name": "stdin",
     "output_type": "stream",
     "text": [
      "정수를 입력해주세요: 2\n"
     ]
    },
    {
     "name": "stdout",
     "output_type": "stream",
     "text": [
      "2 \n",
      "type: <class 'int'>\n"
     ]
    }
   ],
   "source": [
    "input_value4 = int(input(\"정수를 입력해주세요:\"))\n",
    "print(input_value4, \"\\ntype:\", type(input_value4))"
   ]
  },
  {
   "cell_type": "code",
   "execution_count": 33,
   "id": "a3950ab2-fdd1-4a26-8a55-c3b21cb91bc7",
   "metadata": {},
   "outputs": [
    {
     "name": "stdin",
     "output_type": "stream",
     "text": [
      "이름을 입력하시오. 엔코아\n"
     ]
    },
    {
     "name": "stdout",
     "output_type": "stream",
     "text": [
      "엔코아 씨, 안녕하세요?\n"
     ]
    },
    {
     "name": "stdin",
     "output_type": "stream",
     "text": [
      "첫 번째 정수를 입력하세요: 300\n",
      "두 번째 정수를 입력하세요: 400\n"
     ]
    },
    {
     "name": "stdout",
     "output_type": "stream",
     "text": [
      "300 과 400 의 합은 700 입니다.\n"
     ]
    }
   ],
   "source": [
    "#문제풀이 (나)\n",
    "\n",
    "input_value5 = input(\"이름을 입력하시오.\")\n",
    "print(input_value5, \"씨, 안녕하세요?\")\n",
    "input_value6 = int(input(\"첫 번째 정수를 입력하세요:\"))\n",
    "input_value7 = int(input(\"두 번째 정수를 입력하세요:\"))\n",
    "print(input_value6, \"과\", input_value7, \"의 합은\", input_value6 + input_value7, \"입니다.\")"
   ]
  },
  {
   "cell_type": "code",
   "execution_count": 34,
   "id": "d6c68942-9d31-42c2-8a1a-86edcebc7322",
   "metadata": {},
   "outputs": [
    {
     "name": "stdin",
     "output_type": "stream",
     "text": [
      "이름을 입력하시오. 엔코아\n"
     ]
    },
    {
     "name": "stdout",
     "output_type": "stream",
     "text": [
      "엔코아 씨, 안녕하세요?\n",
      "파이썬에 오신 것을 환영합니다.\n"
     ]
    },
    {
     "name": "stdin",
     "output_type": "stream",
     "text": [
      "첫 번째 정수를 입력하세요: 300\n",
      "두 번째 정수를 입력하세요: 400\n"
     ]
    },
    {
     "name": "stdout",
     "output_type": "stream",
     "text": [
      "300 과 400 의 합은 700 입니다.\n"
     ]
    }
   ],
   "source": [
    "#문제풀이 (정답지)\n",
    "\n",
    "name = input(\"이름을 입력하시오.\")\n",
    "print(name, \"씨, 안녕하세요?\")\n",
    "print(\"파이썬에 오신 것을 환영합니다.\")\n",
    "\n",
    "first_value = int(input(\"첫 번째 정수를 입력하세요:\"))\n",
    "second_value = int(input(\"두 번째 정수를 입력하세요:\"))\n",
    "print(first_value, \"과\", second_value, \"의 합은\", first_value + second_value, \"입니다.\")"
   ]
  },
  {
   "cell_type": "code",
   "execution_count": 35,
   "id": "9e31a3e7-6100-41c3-b903-6a990c3365e5",
   "metadata": {},
   "outputs": [
    {
     "name": "stdout",
     "output_type": "stream",
     "text": [
      "<class 'list'>\n",
      "['1', '2', '3']\n"
     ]
    }
   ],
   "source": [
    "result = '1,2,3'.split(',')\n",
    "print(type(result))\n",
    "print(result)"
   ]
  },
  {
   "cell_type": "code",
   "execution_count": 41,
   "id": "fe92b80a-6865-4943-92fb-5d139ba31f83",
   "metadata": {},
   "outputs": [
    {
     "name": "stdin",
     "output_type": "stream",
     "text": [
      "hh:mm:ss 의 형태로 시간을 입력해주세요 12:23:33\n"
     ]
    },
    {
     "name": "stdout",
     "output_type": "stream",
     "text": [
      "시 : 12\n",
      "분 : 23\n",
      "초 : 33\n"
     ]
    }
   ],
   "source": [
    "h, m, s = input(\"hh:mm:ss 의 형태로 시간을 입력해주세요\").split(\":\")\n",
    "\n",
    "print(\"시 :\", h)\n",
    "print(\"분 :\", m)\n",
    "print(\"초 :\", s)"
   ]
  },
  {
   "cell_type": "code",
   "execution_count": 42,
   "id": "0843557e-71f0-4992-82fd-9e01231c4192",
   "metadata": {},
   "outputs": [
    {
     "name": "stdin",
     "output_type": "stream",
     "text": [
      "hh:mm:ss 의 형태로 시간을 입력해주세요 12:23:33\n"
     ]
    },
    {
     "name": "stdout",
     "output_type": "stream",
     "text": [
      "12 23 33\n"
     ]
    }
   ],
   "source": [
    "h, m, s = input(\"hh:mm:ss 의 형태로 시간을 입력해주세요\").split(\":\")\n",
    "print(h, m, s)"
   ]
  },
  {
   "cell_type": "code",
   "execution_count": 47,
   "id": "7741767a-58c9-4291-badc-94b661915634",
   "metadata": {},
   "outputs": [
    {
     "name": "stdin",
     "output_type": "stream",
     "text": [
      "국어, 영어, 수학, 과학 점수를 입력해주세요 98,100,96,100\n"
     ]
    },
    {
     "name": "stdout",
     "output_type": "stream",
     "text": [
      "98 100 96 100\n"
     ]
    },
    {
     "ename": "TypeError",
     "evalue": "unsupported operand type(s) for /: 'str' and 'int'",
     "output_type": "error",
     "traceback": [
      "\u001b[1;31m---------------------------------------------------------------------------\u001b[0m",
      "\u001b[1;31mTypeError\u001b[0m                                 Traceback (most recent call last)",
      "\u001b[1;32mC:\\Users\\Public\\Documents\\ESTsoft\\CreatorTemp\\ipykernel_28204\\3017693601.py\u001b[0m in \u001b[0;36m<module>\u001b[1;34m\u001b[0m\n\u001b[0;32m      1\u001b[0m \u001b[0mkor\u001b[0m\u001b[1;33m,\u001b[0m \u001b[0meng\u001b[0m\u001b[1;33m,\u001b[0m \u001b[0mmat\u001b[0m\u001b[1;33m,\u001b[0m \u001b[0msci\u001b[0m \u001b[1;33m=\u001b[0m \u001b[0minput\u001b[0m\u001b[1;33m(\u001b[0m\u001b[1;34m\"국어, 영어, 수학, 과학 점수를 입력해주세요\"\u001b[0m\u001b[1;33m)\u001b[0m\u001b[1;33m.\u001b[0m\u001b[0msplit\u001b[0m\u001b[1;33m(\u001b[0m\u001b[1;34m\",\"\u001b[0m\u001b[1;33m)\u001b[0m\u001b[1;33m\u001b[0m\u001b[1;33m\u001b[0m\u001b[0m\n\u001b[0;32m      2\u001b[0m \u001b[0mprint\u001b[0m\u001b[1;33m(\u001b[0m\u001b[0mkor\u001b[0m\u001b[1;33m,\u001b[0m \u001b[0meng\u001b[0m\u001b[1;33m,\u001b[0m \u001b[0mmat\u001b[0m\u001b[1;33m,\u001b[0m \u001b[0msci\u001b[0m\u001b[1;33m)\u001b[0m\u001b[1;33m\u001b[0m\u001b[1;33m\u001b[0m\u001b[0m\n\u001b[1;32m----> 3\u001b[1;33m \u001b[0mprint\u001b[0m\u001b[1;33m(\u001b[0m\u001b[1;34m\"평균 점수는\"\u001b[0m\u001b[1;33m,\u001b[0m \u001b[1;33m(\u001b[0m\u001b[0mkor\u001b[0m \u001b[1;33m+\u001b[0m \u001b[0meng\u001b[0m \u001b[1;33m+\u001b[0m \u001b[0mmat\u001b[0m \u001b[1;33m+\u001b[0m \u001b[0msci\u001b[0m\u001b[1;33m)\u001b[0m \u001b[1;33m/\u001b[0m \u001b[1;36m4\u001b[0m\u001b[1;33m,\u001b[0m \u001b[1;34m\"점입니다.\"\u001b[0m\u001b[1;33m)\u001b[0m\u001b[1;33m\u001b[0m\u001b[1;33m\u001b[0m\u001b[0m\n\u001b[0m",
      "\u001b[1;31mTypeError\u001b[0m: unsupported operand type(s) for /: 'str' and 'int'"
     ]
    }
   ],
   "source": [
    "kor, eng, mat, sci = input(\"국어, 영어, 수학, 과학 점수를 입력해주세요\").split(\",\")\n",
    "print(kor, eng, mat, sci)\n",
    "print(\"평균 점수는\", (kor + eng + mat + sci) / 4, \"점입니다.\")"
   ]
  },
  {
   "cell_type": "code",
   "execution_count": 52,
   "id": "a965cd33-a1af-413f-95e4-d2ff258a9f15",
   "metadata": {},
   "outputs": [
    {
     "name": "stdin",
     "output_type": "stream",
     "text": [
      "국어, 영어, 수학, 과학, 점수를 입력해주세요 99,99,99,99\n"
     ]
    },
    {
     "name": "stdout",
     "output_type": "stream",
     "text": [
      "평균 점수는 99.0 점입니다.\n"
     ]
    }
   ],
   "source": [
    "kor, eng, mat, sci = map(int, input(\"국어, 영어, 수학, 과학, 점수를 입력해주세요\").split(\",\"))\n",
    "avg = (kor + eng + mat + sci) / 4\n",
    "print(\"평균 점수는\", avg, \"점입니다.\")"
   ]
  },
  {
   "cell_type": "code",
   "execution_count": null,
   "id": "c49b7f2b-1ebd-4a8f-bdbd-77c3cb85d711",
   "metadata": {},
   "outputs": [],
   "source": []
  }
 ],
 "metadata": {
  "kernelspec": {
   "display_name": "Python 3 (ipykernel)",
   "language": "python",
   "name": "python3"
  },
  "language_info": {
   "codemirror_mode": {
    "name": "ipython",
    "version": 3
   },
   "file_extension": ".py",
   "mimetype": "text/x-python",
   "name": "python",
   "nbconvert_exporter": "python",
   "pygments_lexer": "ipython3",
   "version": "3.9.13"
  }
 },
 "nbformat": 4,
 "nbformat_minor": 5
}
