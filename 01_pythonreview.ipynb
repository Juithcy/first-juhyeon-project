{
 "cells": [
  {
   "cell_type": "code",
   "execution_count": 2,
   "id": "5bb87420-6d5b-4358-8f21-759c851db0e3",
   "metadata": {},
   "outputs": [
    {
     "name": "stdout",
     "output_type": "stream",
     "text": [
      "3.9.13 (main, Aug 25 2022, 23:51:50) [MSC v.1916 64 bit (AMD64)]\n"
     ]
    }
   ],
   "source": [
    "import sys\n",
    "print(sys.version)"
   ]
  },
  {
   "cell_type": "code",
   "execution_count": 3,
   "id": "7d2fcb4c-3775-44a8-a016-4b6e8bd82ccd",
   "metadata": {},
   "outputs": [
    {
     "name": "stdout",
     "output_type": "stream",
     "text": [
      " C 드라이브의 볼륨: OS\n",
      " 볼륨 일련 번호: 3810-D41B\n",
      "\n",
      " C:\\python 디렉터리\n",
      "\n",
      "2023-02-14  오후 07:24    <DIR>          .\n",
      "2023-02-14  오후 07:24    <DIR>          .ipynb_checkpoints\n",
      "2023-02-14  오후 07:23                72 01_pythonreview.ipynb\n",
      "               1개 파일                  72 바이트\n",
      "               2개 디렉터리  294,410,186,752 바이트 남음\n"
     ]
    }
   ],
   "source": [
    "!dir"
   ]
  },
  {
   "cell_type": "code",
   "execution_count": null,
   "id": "497a877e-16c2-44ff-a13a-58be3fbcdbbf",
   "metadata": {},
   "outputs": [],
   "source": []
  }
 ],
 "metadata": {
  "kernelspec": {
   "display_name": "Python 3 (ipykernel)",
   "language": "python",
   "name": "python3"
  },
  "language_info": {
   "codemirror_mode": {
    "name": "ipython",
    "version": 3
   },
   "file_extension": ".py",
   "mimetype": "text/x-python",
   "name": "python",
   "nbconvert_exporter": "python",
   "pygments_lexer": "ipython3",
   "version": "3.9.13"
  }
 },
 "nbformat": 4,
 "nbformat_minor": 5
}
