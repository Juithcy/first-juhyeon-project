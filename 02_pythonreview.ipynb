{
 "cells": [
  {
   "cell_type": "code",
   "execution_count": 35,
   "id": "18722eeb-d49c-4576-b17c-0bc86ab07162",
   "metadata": {},
   "outputs": [],
   "source": [
    "# review_파이썬 기초문법 ( 파이썬의 특징, 변수, 리터럴, 대입연산, 사칙연산, 다영한 표기법 등)"
   ]
  },
  {
   "cell_type": "code",
   "execution_count": 7,
   "id": "a4148e2e-65bd-490e-8a25-5494a7c39ec2",
   "metadata": {},
   "outputs": [
    {
     "name": "stdout",
     "output_type": "stream",
     "text": [
      "Hello, world!\n",
      "Hello, world!\n",
      "Python Progrmming\n"
     ]
    }
   ],
   "source": [
    "# 연습문제\n",
    "\n",
    "print(\"\"\"Hello, world!\n",
    "Hello, world!\n",
    "Python Progrmming\"\"\")\n",
    "\n",
    "# print(\"Hello, world! \\nHello, world! \\nPython Programming\")"
   ]
  },
  {
   "cell_type": "code",
   "execution_count": 11,
   "id": "863e9f7c-f819-4cfc-93c2-80c624871873",
   "metadata": {},
   "outputs": [
    {
     "name": "stdout",
     "output_type": "stream",
     "text": [
      "3\n",
      "1\n",
      "128\n",
      "1.7320508075688772\n"
     ]
    }
   ],
   "source": [
    "# 내가 헷갈리는 연산자 정리\n",
    "print(7 // 2)     # 몫\n",
    "print(3 % 2)      # 나머지\n",
    "print(2 ** 7)     # 거듭제곱\n",
    "print(3 ** (1/2)) # 제곱근"
   ]
  },
  {
   "cell_type": "code",
   "execution_count": 13,
   "id": "85c64a8d-e766-40a8-8346-ff1399476363",
   "metadata": {},
   "outputs": [
    {
     "name": "stdout",
     "output_type": "stream",
     "text": [
      "7 층\n"
     ]
    }
   ],
   "source": [
    "# 연습문제 \n",
    "# 국립환경과학원에서는 아파트에서 소음이 가장 심한 층수를 구하는 계산식을 발표했습니다. \n",
    "# 소음이 가장 심한 층은 0.2467 × 도로와의 거리(m) + 4.159 입니다.\n",
    "# 이때 소음이 가장 심한 층수를 구해보세요.(단 층수는 정수로 표기 하세요.)\n",
    "\n",
    "print(int(0.2467 * 12 + 4.159), \"층\")"
   ]
  },
  {
   "cell_type": "code",
   "execution_count": 14,
   "id": "69c8a4e0-9adb-4ac5-8513-f6b1bd0b0efd",
   "metadata": {},
   "outputs": [
    {
     "name": "stdout",
     "output_type": "stream",
     "text": [
      "가장 시끄러운 층은 = 7 층\n"
     ]
    }
   ],
   "source": [
    "# 연습문제 심화\n",
    "\n",
    "print(\"가장 시끄러운 층은 =\", int(0.2467 * 12 + 4.159), \"층\")"
   ]
  },
  {
   "cell_type": "code",
   "execution_count": 15,
   "id": "0d2b4c3d-9329-4739-bc8a-bf40054abb12",
   "metadata": {},
   "outputs": [
    {
     "name": "stdout",
     "output_type": "stream",
     "text": [
      "냉장고 가격은 1272000 원 입니다.\n"
     ]
    }
   ],
   "source": [
    "mart = 53000 * 24\n",
    "print(\"냉장고 가격은\", mart, \"원 입니다.\")"
   ]
  },
  {
   "cell_type": "code",
   "execution_count": 17,
   "id": "53b48460-d2a4-4082-8a7d-935db4899138",
   "metadata": {},
   "outputs": [
    {
     "name": "stdout",
     "output_type": "stream",
     "text": [
      "총 지불 해야 할 금액은 16500000 원 입니다.\n"
     ]
    }
   ],
   "source": [
    "people = 250\n",
    "price = 20000 * 3 * people\n",
    "tax = price * 0.1\n",
    "\n",
    "print(\"총 지불 해야 할 금액은\", int(price + tax), \"원 입니다.\")"
   ]
  },
  {
   "cell_type": "code",
   "execution_count": 26,
   "id": "d9081a54-5eca-4637-ba4d-4ff4b4a4a955",
   "metadata": {},
   "outputs": [
    {
     "name": "stdout",
     "output_type": "stream",
     "text": [
      "12345000000.0\n",
      "0.0012345\n",
      "0b10001\n",
      "0b10110\n",
      "0o21\n",
      "0o26\n",
      "0x1f\n",
      "0x16\n"
     ]
    }
   ],
   "source": [
    "# 지수 표기\n",
    "print(1.2345e10)\n",
    "print(1.2345e-3)\n",
    "\n",
    "# 2진법 표기 (0b____)\n",
    "print(bin(17))\n",
    "print(bin(22))\n",
    "\n",
    "# 8진수 표기 (0o__)\n",
    "print(oct(17))\n",
    "print(oct(22))\n",
    "\n",
    "# 16진수 표기 (0x__) -> 1,2,3,4,5,6,7,8,9,a,b,c,d,e,f (2자리수부터 영문으로 진행)\n",
    "print(hex(31))\n",
    "print(hex(22))"
   ]
  },
  {
   "cell_type": "code",
   "execution_count": 28,
   "id": "3a7f5e29-a588-4760-8d01-bedd5bb92e55",
   "metadata": {},
   "outputs": [
    {
     "name": "stdout",
     "output_type": "stream",
     "text": [
      "453\n"
     ]
    }
   ],
   "source": [
    "#연습문제\n",
    "a = 380\n",
    "print(int(a * 0.6 + 225))"
   ]
  },
  {
   "cell_type": "code",
   "execution_count": 31,
   "id": "cacbeed8-22ea-49cb-bc7e-7d4d9269de31",
   "metadata": {},
   "outputs": [
    {
     "name": "stdout",
     "output_type": "stream",
     "text": [
      "30\n",
      "30\n"
     ]
    }
   ],
   "source": [
    "# 변수 다뤄보기\n",
    "\n",
    "a = 10      # a 변수 선언 후 숫자 리터럴 10 값을 할당\n",
    "a = a + 20  # 앞선 a 변수 값에 20을 더한 결과를 다시 a에 할당 \n",
    "\n",
    "print(a) \n",
    "\n",
    "del a     # 변수 삭제\n",
    "print(a)  # 변수가 더이상 정의되지 않음  "
   ]
  },
  {
   "cell_type": "code",
   "execution_count": 33,
   "id": "926ee214-758f-4c70-895c-78e050bcb024",
   "metadata": {},
   "outputs": [
    {
     "name": "stdout",
     "output_type": "stream",
     "text": [
      "10\n",
      "20\n"
     ]
    }
   ],
   "source": [
    "a = 10\n",
    "a + 20\n",
    "print(a) # a 변수에 10을 할당하였으나, 아래 20에 더한 것에는 할당되지 않았음 \n",
    "\n",
    "a += 10  # a = a + 10과 같다. \n",
    "print(a) "
   ]
  },
  {
   "cell_type": "code",
   "execution_count": 34,
   "id": "fdb2bbab-1eb2-4fab-8bdf-90703fc62b4e",
   "metadata": {},
   "outputs": [
    {
     "name": "stdout",
     "output_type": "stream",
     "text": [
      "\"안녕?\"이라는 그 인사를 듣고 나는 '누구지?'라고 생각했다.\n"
     ]
    }
   ],
   "source": [
    "print('\"안녕?\"이라는 그 인사를 듣고 나는 \\'누구지?\\'라고 생각했다.')"
   ]
  },
  {
   "cell_type": "code",
   "execution_count": 36,
   "id": "c7557492-d234-4779-97cb-1641321265c1",
   "metadata": {},
   "outputs": [],
   "source": [
    "# review_파이썬 기초문법2 (literal(string), 시퀀스 자료형, 인덱싱, 슬라이싱) "
   ]
  },
  {
   "cell_type": "code",
   "execution_count": 37,
   "id": "c4acdd6b-1076-494d-9491-dd37602db395",
   "metadata": {},
   "outputs": [
    {
     "name": "stdout",
     "output_type": "stream",
     "text": [
      "First line. \n",
      "Second line.\n"
     ]
    }
   ],
   "source": [
    "s = 'First line. \\nSecond line.'\n",
    "print(s)"
   ]
  },
  {
   "cell_type": "code",
   "execution_count": 42,
   "id": "a499d54b-5d89-4b7a-8461-45ade0e0ae1d",
   "metadata": {},
   "outputs": [
    {
     "name": "stdout",
     "output_type": "stream",
     "text": [
      "c:\\name\n",
      "c:\\name\n"
     ]
    }
   ],
   "source": [
    "s1 = r\"c:\\name\"\n",
    "s2 = \"c:\\\\name\"\n",
    "print(s1)\n",
    "print(s2)"
   ]
  },
  {
   "cell_type": "code",
   "execution_count": null,
   "id": "c4ea7ca6-7375-4f7c-862a-c36588cf51bc",
   "metadata": {},
   "outputs": [],
   "source": []
  }
 ],
 "metadata": {
  "kernelspec": {
   "display_name": "Python 3 (ipykernel)",
   "language": "python",
   "name": "python3"
  },
  "language_info": {
   "codemirror_mode": {
    "name": "ipython",
    "version": 3
   },
   "file_extension": ".py",
   "mimetype": "text/x-python",
   "name": "python",
   "nbconvert_exporter": "python",
   "pygments_lexer": "ipython3",
   "version": "3.9.13"
  }
 },
 "nbformat": 4,
 "nbformat_minor": 5
}
